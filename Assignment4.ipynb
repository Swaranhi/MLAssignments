{
 "cells": [
  {
   "cell_type": "markdown",
   "metadata": {},
   "source": [
    "# Assignment 4"
   ]
  },
  {
   "cell_type": "markdown",
   "metadata": {},
   "source": [
    "<b>Q1.1 Write a Python Program (with class concepts) to find area of triangle using the below formula.</b>\n",
    "    \n",
    "   <b>area=((s(s-a)(s-b)(s-c)) **0.5</b>\n",
    "   \n",
    " <b>Function to take the length of the sides of triangle from user should be defined in the parent class and function to           calculate the area should be defined in subclass.</b>\n",
    "    "
   ]
  },
  {
   "cell_type": "code",
   "execution_count": 1,
   "metadata": {},
   "outputs": [],
   "source": [
    "class Triangle:\n",
    "    def __init__(self):\n",
    "        self.a=eval(input(\"Enter the length of 1st side of triangle : \"))\n",
    "        self.b=eval(input(\"Enter the length of 2nd side of triangle : \"))\n",
    "        self.c=eval(input(\"Enter the length of 3rd side of triangle : \"))\n",
    "        \n",
    "class Area(Triangle):\n",
    "    def compute_area(self):\n",
    "        s=(self.a + self.b + self.c)/2 \n",
    "        area=(s * (s - self.a) * (s - self.b) * (s -self.c)) ** 0.5\n",
    "        print(\"Area of Triangle is \",round(area,2))\n",
    "        "
   ]
  },
  {
   "cell_type": "code",
   "execution_count": 2,
   "metadata": {},
   "outputs": [
    {
     "name": "stdout",
     "output_type": "stream",
     "text": [
      "Enter the length of 1st side of triangle : 5\n",
      "Enter the length of 2nd side of triangle : 8\n",
      "Enter the length of 3rd side of triangle : 7\n",
      "Area of Triangle is  17.32\n"
     ]
    }
   ],
   "source": [
    "area = Area()\n",
    "area.compute_area()"
   ]
  },
  {
   "cell_type": "markdown",
   "metadata": {},
   "source": [
    "<b>Q1.2.Write a function filter_long_words() that takes a list of words and an integer n and returns the list of words that are longer than n.</b>"
   ]
  },
  {
   "cell_type": "code",
   "execution_count": 3,
   "metadata": {},
   "outputs": [],
   "source": [
    "def filter_long_words(list_l,n):\n",
    "    filtered_list=[]\n",
    "    for i in list_l:\n",
    "        if len(i)>n:\n",
    "            filtered_list.append(i)\n",
    "    return filtered_list        \n",
    "    "
   ]
  },
  {
   "cell_type": "code",
   "execution_count": 4,
   "metadata": {},
   "outputs": [
    {
     "name": "stdout",
     "output_type": "stream",
     "text": [
      "['abc', 'abcd']\n"
     ]
    }
   ],
   "source": [
    "words_list=[\"a\",\"ab\",\"abc\",\"abcd\"]\n",
    "n=2\n",
    "print(filter_long_words(words_list,n))"
   ]
  },
  {
   "cell_type": "markdown",
   "metadata": {},
   "source": [
    "<b>Q2.1 Write a Python program using function concept that maps list of words into a list of integers representing the lengths of the corresponding words.</b>\n",
    "\n",
    "<b> Hint.If a list [ ab,cde,erty] is passed on to the python function output should come as [2,3,4] Here 2,3 and 4 are the lengths of the words in the list.</b>"
   ]
  },
  {
   "cell_type": "code",
   "execution_count": 5,
   "metadata": {},
   "outputs": [],
   "source": [
    "def length_map(list_l):\n",
    "    dict_words={}\n",
    "    for i in list_l:\n",
    "        dict_words[i]=len(i)\n",
    "    return list(dict_words.values())    "
   ]
  },
  {
   "cell_type": "code",
   "execution_count": 6,
   "metadata": {},
   "outputs": [
    {
     "name": "stdout",
     "output_type": "stream",
     "text": [
      "[5, 1, 2]\n"
     ]
    }
   ],
   "source": [
    "print(length_map([\"abcde\",\"a\",\"ab\"]))"
   ]
  },
  {
   "cell_type": "markdown",
   "metadata": {},
   "source": [
    "<b>Q.2.2 Write a Python function which takes a character (i.e. a string of length 1) and returns True if it is a vowel, False otherwise.</b>"
   ]
  },
  {
   "cell_type": "code",
   "execution_count": 11,
   "metadata": {},
   "outputs": [],
   "source": [
    "def is_vowel(character):\n",
    "    vowels=['a','e','i','o','u']\n",
    "    if type(character) == str and len(character)==1 :\n",
    "        if character in vowels:\n",
    "            return True\n",
    "        else:\n",
    "            return False\n",
    "    else:\n",
    "        print(\"Not a character.Please enter a character\")\n",
    "    "
   ]
  },
  {
   "cell_type": "code",
   "execution_count": 12,
   "metadata": {},
   "outputs": [
    {
     "data": {
      "text/plain": [
       "False"
      ]
     },
     "execution_count": 12,
     "metadata": {},
     "output_type": "execute_result"
    }
   ],
   "source": [
    "is_vowel('s')"
   ]
  },
  {
   "cell_type": "code",
   "execution_count": 13,
   "metadata": {},
   "outputs": [
    {
     "data": {
      "text/plain": [
       "True"
      ]
     },
     "execution_count": 13,
     "metadata": {},
     "output_type": "execute_result"
    }
   ],
   "source": [
    "is_vowel('i')"
   ]
  },
  {
   "cell_type": "code",
   "execution_count": 14,
   "metadata": {},
   "outputs": [
    {
     "name": "stdout",
     "output_type": "stream",
     "text": [
      "Not a character.Please enter a character\n"
     ]
    }
   ],
   "source": [
    "is_vowel(2)"
   ]
  },
  {
   "cell_type": "code",
   "execution_count": null,
   "metadata": {},
   "outputs": [],
   "source": []
  }
 ],
 "metadata": {
  "kernelspec": {
   "display_name": "Python 3",
   "language": "python",
   "name": "python3"
  },
  "language_info": {
   "codemirror_mode": {
    "name": "ipython",
    "version": 3
   },
   "file_extension": ".py",
   "mimetype": "text/x-python",
   "name": "python",
   "nbconvert_exporter": "python",
   "pygments_lexer": "ipython3",
   "version": "3.7.4"
  }
 },
 "nbformat": 4,
 "nbformat_minor": 2
}
